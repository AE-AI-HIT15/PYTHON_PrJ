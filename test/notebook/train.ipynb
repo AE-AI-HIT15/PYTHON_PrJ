{
  "cells": [
    {
      "cell_type": "code",
      "execution_count": 2,
      "metadata": {
        "id": "dtYC7wbhVBLF"
      },
      "outputs": [],
      "source": [
        "import numpy as np\n",
        "import pandas as pd\n",
        "import streamlit as st\n",
        "from sklearn.model_selection import train_test_split\n",
        "from sklearn.linear_model import LinearRegression\n",
        "from sklearn.ensemble import RandomForestRegressor"
      ]
    },
    {
      "cell_type": "code",
      "execution_count": 3,
      "metadata": {
        "id": "34pB2u3EVZ6G"
      },
      "outputs": [],
      "source": [
        "train_df=pd.read_csv(r'D:\\desktop\\Python\\project_python\\test\\data\\train.csv')\n",
        "test_df=pd.read_csv(r'D:\\desktop\\Python\\project_python\\test\\data\\test.csv')\n",
        "train_df=train_df[[\"OverallQual\", \"GrLivArea\", \"GarageArea\", \"YearBuilt\",\"SalePrice\"]]\n",
        "test_df=test_df[[\"OverallQual\", \"GrLivArea\", \"GarageArea\", \"YearBuilt\"]]"
      ]
    },
    {
      "cell_type": "code",
      "execution_count": 4,
      "metadata": {
        "colab": {
          "base_uri": "https://localhost:8080/",
          "height": 206
        },
        "id": "b-o7qJ2DVoy9",
        "outputId": "39d1718e-c88b-4bae-966f-8402dd668bfa"
      },
      "outputs": [
        {
          "data": {
            "text/html": [
              "<div>\n",
              "<style scoped>\n",
              "    .dataframe tbody tr th:only-of-type {\n",
              "        vertical-align: middle;\n",
              "    }\n",
              "\n",
              "    .dataframe tbody tr th {\n",
              "        vertical-align: top;\n",
              "    }\n",
              "\n",
              "    .dataframe thead th {\n",
              "        text-align: right;\n",
              "    }\n",
              "</style>\n",
              "<table border=\"1\" class=\"dataframe\">\n",
              "  <thead>\n",
              "    <tr style=\"text-align: right;\">\n",
              "      <th></th>\n",
              "      <th>OverallQual</th>\n",
              "      <th>GrLivArea</th>\n",
              "      <th>GarageArea</th>\n",
              "      <th>YearBuilt</th>\n",
              "      <th>SalePrice</th>\n",
              "    </tr>\n",
              "  </thead>\n",
              "  <tbody>\n",
              "    <tr>\n",
              "      <th>0</th>\n",
              "      <td>7</td>\n",
              "      <td>1710</td>\n",
              "      <td>548</td>\n",
              "      <td>2003</td>\n",
              "      <td>208500</td>\n",
              "    </tr>\n",
              "    <tr>\n",
              "      <th>1</th>\n",
              "      <td>6</td>\n",
              "      <td>1262</td>\n",
              "      <td>460</td>\n",
              "      <td>1976</td>\n",
              "      <td>181500</td>\n",
              "    </tr>\n",
              "    <tr>\n",
              "      <th>2</th>\n",
              "      <td>7</td>\n",
              "      <td>1786</td>\n",
              "      <td>608</td>\n",
              "      <td>2001</td>\n",
              "      <td>223500</td>\n",
              "    </tr>\n",
              "    <tr>\n",
              "      <th>3</th>\n",
              "      <td>7</td>\n",
              "      <td>1717</td>\n",
              "      <td>642</td>\n",
              "      <td>1915</td>\n",
              "      <td>140000</td>\n",
              "    </tr>\n",
              "    <tr>\n",
              "      <th>4</th>\n",
              "      <td>8</td>\n",
              "      <td>2198</td>\n",
              "      <td>836</td>\n",
              "      <td>2000</td>\n",
              "      <td>250000</td>\n",
              "    </tr>\n",
              "  </tbody>\n",
              "</table>\n",
              "</div>"
            ],
            "text/plain": [
              "   OverallQual  GrLivArea  GarageArea  YearBuilt  SalePrice\n",
              "0            7       1710         548       2003     208500\n",
              "1            6       1262         460       1976     181500\n",
              "2            7       1786         608       2001     223500\n",
              "3            7       1717         642       1915     140000\n",
              "4            8       2198         836       2000     250000"
            ]
          },
          "execution_count": 4,
          "metadata": {},
          "output_type": "execute_result"
        }
      ],
      "source": [
        "train_df.head()"
      ]
    },
    {
      "cell_type": "code",
      "execution_count": 11,
      "metadata": {
        "colab": {
          "base_uri": "https://localhost:8080/"
        },
        "id": "uHf2hWEbVrEG",
        "outputId": "978645cd-bf1b-4003-bb8c-3d77681eb2b9"
      },
      "outputs": [
        {
          "name": "stdout",
          "output_type": "stream",
          "text": [
            "X_train [[   7 1710  548 2003]\n",
            " [   6 1262  460 1976]\n",
            " [   7 1786  608 2001]\n",
            " ...\n",
            " [   7 2340  252 1941]\n",
            " [   5 1078  240 1950]\n",
            " [   5 1256  276 1965]]\n",
            "Y_train [208500 181500 223500 ... 266500 142125 147500]\n"
          ]
        }
      ],
      "source": [
        "X_train = train_df.drop(\"SalePrice\", axis = 1).to_numpy()\n",
        "Y_train = train_df[\"SalePrice\"].to_numpy()\n",
        "X_test = test_df.to_numpy()\n",
        "print(\"X_train\", X_train)\n",
        "print(\"Y_train\", Y_train)"
      ]
    },
    {
      "cell_type": "code",
      "execution_count": 14,
      "metadata": {
        "colab": {
          "base_uri": "https://localhost:8080/"
        },
        "id": "MIOrWouqYJEl",
        "outputId": "b6fd575e-dfd2-4e03-922e-47f5ee53754d"
      },
      "outputs": [
        {
          "data": {
            "text/plain": [
              "(1460, 4)"
            ]
          },
          "execution_count": 14,
          "metadata": {},
          "output_type": "execute_result"
        }
      ],
      "source": [
        "X_train.shape"
      ]
    },
    {
      "cell_type": "code",
      "execution_count": 18,
      "metadata": {
        "colab": {
          "base_uri": "https://localhost:8080/"
        },
        "id": "np01uzB6WWjO",
        "outputId": "c1ffb6b7-ae0e-4d67-a187-4254efdbda23"
      },
      "outputs": [
        {
          "name": "stdout",
          "output_type": "stream",
          "text": [
            "w =  [-8.23805261e+05  2.31109655e+04  5.57043800e+01  5.76036735e+01\n",
            "  3.81532147e+02]\n"
          ]
        }
      ],
      "source": [
        "# Building Xbar\n",
        "one = np.ones((X_train.shape[0], 1))\n",
        "Xbar = np.concatenate((one, X_train), axis = 1)\n",
        "\n",
        "# Calculating weights of the fitting line\n",
        "A = np.dot(Xbar.T, Xbar)\n",
        "b = np.dot(Xbar.T, Y_train)\n",
        "w = np.dot(np.linalg.pinv(A), b)\n",
        "print('w = ', w)\n"
      ]
    },
    {
      "cell_type": "code",
      "execution_count": null,
      "metadata": {},
      "outputs": [],
      "source": [
        "# Dự đoán tập test\n",
        "X_test = test_data[features]\n",
        "y_preds_test = lr_model.predict(X_test)\n",
        "\n",
        "\n",
        "# Huấn luyện Random Forest\n",
        "rf_model = RandomForestRegressor(random_state=1)\n",
        "rf_model.fit(X_train, Y_train)\n",
        "y_preds_rf = rf_model.predict(X_test)"
      ]
    },
    {
      "cell_type": "code",
      "execution_count": null,
      "metadata": {
        "id": "c4ES_JJrXzR1"
      },
      "outputs": [],
      "source": []
    }
  ],
  "metadata": {
    "colab": {
      "provenance": []
    },
    "kernelspec": {
      "display_name": "Python 3",
      "name": "python3"
    },
    "language_info": {
      "codemirror_mode": {
        "name": "ipython",
        "version": 3
      },
      "file_extension": ".py",
      "mimetype": "text/x-python",
      "name": "python",
      "nbconvert_exporter": "python",
      "pygments_lexer": "ipython3",
      "version": "3.12.4"
    }
  },
  "nbformat": 4,
  "nbformat_minor": 0
}
